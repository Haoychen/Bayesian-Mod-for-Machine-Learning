{
 "cells": [
  {
   "cell_type": "code",
   "execution_count": 1,
   "metadata": {
    "collapsed": true
   },
   "outputs": [],
   "source": [
    "# Haoyang Chen\n",
    "# hc2812\n",
    "# Assingment 2\n",
    "\n",
    "import numpy as np\n",
    "import scipy as sp\n",
    "from scipy.stats import norm\n",
    "import pandas as pd\n",
    "from matplotlib import pyplot as plt"
   ]
  },
  {
   "cell_type": "code",
   "execution_count": 2,
   "metadata": {
    "collapsed": true
   },
   "outputs": [],
   "source": [
    "%matplotlib inline"
   ]
  },
  {
   "cell_type": "code",
   "execution_count": 3,
   "metadata": {
    "collapsed": false
   },
   "outputs": [],
   "source": [
    "path = 'hw2_data_csv/'\n",
    "# Training data\n",
    "xtrn =pd.read_csv(path+'Xtrain.csv', header=None)\n",
    "xtrn = xtrn.values\n",
    "ytrn =list(pd.read_csv(path+'ytrain.csv', header=None)[0])\n",
    "\n",
    "# Reading test data\n",
    "xtst =pd.read_csv(path+'Xtest.csv', header=None)\n",
    "xtst = xtst.values\n",
    "ytst =list(pd.read_csv(path+'ytest.csv', header=None)[0])\n",
    "\n",
    "Q = pd.read_csv(path+\"Q.csv\", header=None)\n",
    "Q = Q.values"
   ]
  },
  {
   "cell_type": "code",
   "execution_count": 4,
   "metadata": {
    "collapsed": true
   },
   "outputs": [],
   "source": [
    "class probit_regression(object):\n",
    "    def __init__(self, n, dim, sigma, lambda_var):\n",
    "        self.n = n\n",
    "        self.dim = dim\n",
    "        self.sigma = sigma\n",
    "        self.lambda_var = lambda_var\n",
    "        self.W = []\n",
    "        self.W.append(np.zeros(dim))\n",
    "    \n",
    "    def E_step(self, t, X, Y):\n",
    "        sigma = self.sigma\n",
    "        Expectation = []\n",
    "        for i in range(X.shape[0]):\n",
    "            Xw = np.dot(X[i], self.W[t-1])\n",
    "            if Y[i] == 1:\n",
    "                temp = Xw + sigma * norm.pdf(-Xw/sigma) / (1 - norm.cdf(-Xw/sigma))\n",
    "                Expectation.append(temp)\n",
    "            else:\n",
    "                temp = Xw + sigma * (-norm.pdf(-Xw/sigma)) / norm.cdf(-Xw/sigma)\n",
    "                Expectation.append(temp)\n",
    "        self.Expectation = np.asarray(Expectation)\n",
    "        \n",
    "    def M_step(self, t, X):\n",
    "        sigma = self.sigma\n",
    "        lambda_var = self.lambda_var\n",
    "        I = np.diag(np.ones(self.dim))\n",
    "        xxt = np.dot(X.T,X) \n",
    "        temp = np.dot(np.linalg.inv(lambda_var * I + np.divide(xxt,sigma**2.0)), np.divide(np.dot(X.T,self.Expectation),sigma**2.0))\n",
    "        self.W.append(temp)\n",
    "    \n",
    "    def log_joint_dist(self, t, X, Y):\n",
    "        lambda_var = self.lambda_var\n",
    "        sigma = self.sigma\n",
    "        d = self.dim\n",
    "        wt = self.W[t]\n",
    "        Xw_over_sigma = np.divide(np.dot(X,wt).reshape((self.n,1)), sigma)\n",
    "        ytrn = np.asarray(Y)\n",
    "        temp = float((d/2.0) * np.log(lambda_var / (2.0*np.pi)) - (lambda_var/2.0) * np.dot(wt,wt)\n",
    "               + np.dot(ytrn,np.log(norm.cdf(Xw_over_sigma))) + np.dot((1.0-ytrn),np.log(1.0 - norm.cdf(Xw_over_sigma))))\n",
    "        return temp\n",
    "    \n",
    "    def fit(self, T, X, Y):\n",
    "        log_joint_dist_val = -float('inf')\n",
    "        self.log_joint_dist_val = []\n",
    "        for t in range(1, T + 1):\n",
    "            self.E_step(t, X, Y)\n",
    "            self.M_step(t, X)\n",
    "            temp = self.log_joint_dist(t, X, Y)\n",
    "            if temp < log_joint_dist_val:\n",
    "                print \"error\"\n",
    "                break\n",
    "            else:\n",
    "                self.log_joint_dist_val.append(temp)\n",
    "                log_joint_dist_val = temp\n",
    "    \n",
    "    def predict(self, T, X, Y, Xtest):\n",
    "        self.fit(T, X, Y)\n",
    "        weights = self.W[T]\n",
    "        y_probs = np.dot(Xtest, weights)\n",
    "        y_labels = [0 if y_prob <= 0 else 1 for y_prob in y_probs]\n",
    "        self.y_hat = y_labels\n",
    "        self.y_probs = y_probs\n",
    "        return y_labels, y_probs\n",
    "    \n",
    "    \n",
    "    def plot_joint_dist(self, T):\n",
    "        t = list(range(1, T + 1))\n",
    "        plt.plot(t, self.log_joint_dist_val)\n",
    "        plt.xlabel('Iteration')\n",
    "        plt.ylabel('Log Probability')\n",
    "        plt.savefig('LogProbability.png')\n",
    "        plt.show()\n",
    "    \n",
    "    def ConfusionMatrix(self, ytest):\n",
    "        y = ytest\n",
    "        y_hat = self.y_hat\n",
    "        count_0_0 = 0\n",
    "        count_0_1 = 0\n",
    "        count_1_0 = 0\n",
    "        count_1_1 = 0\n",
    "        for i in range(len(y)):\n",
    "            if (y[i] == 1) & (y_hat[i] == 1):\n",
    "                count_1_1 += 1\n",
    "            elif (y[i] == 0) & (y_hat[i] == 1):\n",
    "                count_0_1 += 1\n",
    "            elif (y[i] ==  1) & (y_hat[i] == 0):\n",
    "                count_1_0 += 1\n",
    "            elif (y[i] ==  0) & (y_hat[i] == 0):\n",
    "                count_0_0 += 1\n",
    "        \n",
    "        print count_0_0, count_0_1, count_1_0, count_1_1\n",
    "        print \"Accuracy\", (count_0_0 + count_1_1) / float(sum([count_0_0, count_0_1, count_1_0, count_1_1]))\n",
    "    \n",
    "    def ImageDrawer(self, Q, X, index):\n",
    "        vector = X[index].reshape(15)\n",
    "        img = np.dot(Q, vector).reshape((28,28))\n",
    "        plt.imshow(img, interpolation='nearest')\n",
    "        plt.savefig('img' + str(index) + '.png')\n",
    "\n",
    "    def misclassfied(self, Q, X, ytest):\n",
    "        ytst = ytest\n",
    "        y_test = self.y_hat\n",
    "        misclassfied_index = [i for i in range(len(y_test)) if y_test[i] != ytst[i]]\n",
    "        print misclassfied_index[1]\n",
    "        self.ImageDrawer(Q, X, misclassfied_index[1])\n",
    "        print misclassfied_index[10]\n",
    "        self.ImageDrawer(Q, X, misclassfied_index[10])\n",
    "        print misclassfied_index[20]\n",
    "        self.ImageDrawer(Q, X, misclassfied_index[20])\n",
    "        \n",
    "    def mostAmbiguous(self, Q, X):\n",
    "        prob_abs = [abs(item - 0) for item in self.y_probs]\n",
    "        sorted_prob = sorted(prob_abs)\n",
    "        print prob_abs.index(sorted_prob[0]), norm.cdf(self.y_probs[prob_abs.index(sorted_prob[0])])\n",
    "        self.ImageDrawer(Q, X, prob_abs.index(sorted_prob[0]))\n",
    "        print prob_abs.index(sorted_prob[1]), norm.cdf(self.y_probs[prob_abs.index(sorted_prob[1])])\n",
    "        self.ImageDrawer(Q, X, prob_abs.index(sorted_prob[1]))\n",
    "        print prob_abs.index(sorted_prob[2]), norm.cdf(self.y_probs[prob_abs.index(sorted_prob[2])])\n",
    "        self.ImageDrawer(Q, X, prob_abs.index(sorted_prob[2]))\n",
    "        \n",
    "    def reconstrucW(self, Q):\n",
    "        for t in [1, 5, 10, 25, 50, 100]:\n",
    "            W = self.W[t]\n",
    "            img = np.dot(Q, W).reshape((28,28))\n",
    "            plt.imshow(img, interpolation='nearest')\n",
    "            plt.savefig('W' + str(t) + '.png')\n",
    "            "
   ]
  },
  {
   "cell_type": "code",
   "execution_count": 5,
   "metadata": {
    "collapsed": false
   },
   "outputs": [],
   "source": [
    "n, dim = xtrn.shape\n",
    "sigma = 1.5\n",
    "lambda_var = 1\n",
    "T = 100"
   ]
  },
  {
   "cell_type": "code",
   "execution_count": 6,
   "metadata": {
    "collapsed": false
   },
   "outputs": [],
   "source": [
    "model = probit_regression(n, dim, sigma, lambda_var)"
   ]
  },
  {
   "cell_type": "code",
   "execution_count": 7,
   "metadata": {
    "collapsed": false
   },
   "outputs": [],
   "source": [
    "y_labels, y_probs = model.predict(T, xtrn, ytrn, xtst)"
   ]
  },
  {
   "cell_type": "code",
   "execution_count": 8,
   "metadata": {
    "collapsed": false
   },
   "outputs": [
    {
     "name": "stdout",
     "output_type": "stream",
     "text": [
      "930 52 77 932\n",
      "Accuracy 0.935208437971\n"
     ]
    }
   ],
   "source": [
    "model.ConfusionMatrix(ytst)"
   ]
  },
  {
   "cell_type": "code",
   "execution_count": 9,
   "metadata": {
    "collapsed": false
   },
   "outputs": [
    {
     "data": {
      "image/png": "[encoded data removed]",
      "text/plain": [
       "<matplotlib.figure.Figure at 0x1144b0250>"
      ]
     },
     "metadata": {},
     "output_type": "display_data"
    }
   ],
   "source": [
    "model.plot_joint_dist(T)"
   ]
  },
  {
   "cell_type": "code",
   "execution_count": 10,
   "metadata": {
    "collapsed": false
   },
   "outputs": [
    {
     "name": "stdout",
     "output_type": "stream",
     "text": [
      "46\n",
      "156\n",
      "259\n"
     ]
    },
    {
     "data": {
      "image/png": "[encoded data removed]",
      "text/plain": [
       "<matplotlib.figure.Figure at 0x114578dd0>"
      ]
     },
     "metadata": {},
     "output_type": "display_data"
    }
   ],
   "source": [
    "model.misclassfied(Q, xtst, ytst)"
   ]
  },
  {
   "cell_type": "code",
   "execution_count": 11,
   "metadata": {
    "collapsed": false
   },
   "outputs": [
    {
     "name": "stdout",
     "output_type": "stream",
     "text": [
      "586 0.500260494859\n",
      "340 0.504649686656\n",
      "210 0.506175874801\n"
     ]
    },
    {
     "data": {
      "image/png": "[encoded data removed]",
      "text/plain": [
       "<matplotlib.figure.Figure at 0x118114890>"
      ]
     },
     "metadata": {},
     "output_type": "display_data"
    }
   ],
   "source": [
    "model.mostAmbiguous(Q, xtst)"
   ]
  },
  {
   "cell_type": "code",
   "execution_count": 12,
   "metadata": {
    "collapsed": false
   },
   "outputs": [
    {
     "data": {
      "image/png": "[encoded data removed]",
      "text/plain": [
       "<matplotlib.figure.Figure at 0x1183f3210>"
      ]
     },
     "metadata": {},
     "output_type": "display_data"
    }
   ],
   "source": [
    "model.reconstrucW(Q)"
   ]
  },
  {
   "cell_type": "code",
   "execution_count": 26,
   "metadata": {
    "collapsed": false
   },
   "outputs": [
    {
     "data": {
      "text/plain": [
       "1"
      ]
     },
     "execution_count": 26,
     "metadata": {},
     "output_type": "execute_result"
    }
   ],
   "source": [
    "model.y_hat[340]"
   ]
  },
  {
   "cell_type": "code",
   "execution_count": 27,
   "metadata": {
    "collapsed": false
   },
   "outputs": [
    {
     "data": {
      "text/plain": [
       "0"
      ]
     },
     "execution_count": 27,
     "metadata": {},
     "output_type": "execute_result"
    }
   ],
   "source": [
    "ytst[340]"
   ]
  },
  {
   "cell_type": "code",
   "execution_count": null,
   "metadata": {
    "collapsed": true
   },
   "outputs": [],
   "source": []
  }
 ],
 "metadata": {
  "anaconda-cloud": {},
  "kernelspec": {
   "display_name": "Python [conda root]",
   "language": "python",
   "name": "conda-root-py"
  },
  "language_info": {
   "codemirror_mode": {
    "name": "ipython",
    "version": 2
   },
   "file_extension": ".py",
   "mimetype": "text/x-python",
   "name": "python",
   "nbconvert_exporter": "python",
   "pygments_lexer": "ipython2",
   "version": "2.7.12"
  }
 },
 "nbformat": 4,
 "nbformat_minor": 1
}
