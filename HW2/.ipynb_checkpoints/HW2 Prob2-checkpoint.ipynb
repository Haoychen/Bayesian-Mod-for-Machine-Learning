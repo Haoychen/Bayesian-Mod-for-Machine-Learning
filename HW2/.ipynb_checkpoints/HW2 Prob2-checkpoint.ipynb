{
 "cells": [
  {
   "cell_type": "code",
   "execution_count": 1,
   "metadata": {
    "collapsed": true
   },
   "outputs": [],
   "source": [
    "# Haoyang Chen\n",
    "# hc2812\n",
    "# Assingment 2\n",
    "\n",
    "import numpy as np\n",
    "import scipy as sp\n",
    "from scipy.stats import norm\n",
    "import pandas as pd\n",
    "from matplotlib import pyplot as plt"
   ]
  },
  {
   "cell_type": "code",
   "execution_count": 2,
   "metadata": {
    "collapsed": true
   },
   "outputs": [],
   "source": [
    "%matplotlib inline"
   ]
  },
  {
   "cell_type": "code",
   "execution_count": 3,
   "metadata": {
    "collapsed": false
   },
   "outputs": [],
   "source": [
    "path = 'hw2_data_csv/'\n",
    "# Training data\n",
    "xtrn =pd.read_csv(path+'Xtrain.csv', header=None)\n",
    "xtrn = xtrn.values\n",
    "ytrn =list(pd.read_csv(path+'ytrain.csv', header=None)[0])\n",
    "\n",
    "# Reading test data\n",
    "xtst =pd.read_csv(path+'Xtest.csv', header=None)\n",
    "xtst = xtst.values\n",
    "ytst =list(pd.read_csv(path+'ytest.csv', header=None)[0])"
   ]
  },
  {
   "cell_type": "code",
   "execution_count": 4,
   "metadata": {
    "collapsed": true
   },
   "outputs": [],
   "source": [
    "class probit_regression(object):\n",
    "    def __init__(self, n, dim, sigma, lambda_var):\n",
    "        self.n = n\n",
    "        self.dim = dim\n",
    "        self.sigma = sigma\n",
    "        self.lambda_var = lambda_var\n",
    "        self.W = []\n",
    "        self.W.append(np.zeros(dim))\n",
    "    \n",
    "    def E_step(self, t, X, Y):\n",
    "        sigma = self.sigma\n",
    "        Expectation = []\n",
    "        for i in range(X.shape[0]):\n",
    "            Xw = np.dot(X[i], self.W[t-1])\n",
    "            if Y[i] == 1:\n",
    "                temp = Xw + sigma * norm.pdf(-Xw/sigma) / (1 - norm.cdf(-Xw/sigma))\n",
    "                Expectation.append(temp)\n",
    "            else:\n",
    "                temp = Xw + sigma * (-norm.pdf(-Xw/sigma)) / norm.cdf(-Xw/sigma)\n",
    "                Expectation.append(temp)\n",
    "        self.Expectation = np.asarray(Expectation)\n",
    "        \n",
    "    def M_step(self, t, X):\n",
    "        sigma = self.sigma\n",
    "        lambda_var = self.lambda_var\n",
    "        I = np.diag(np.ones(self.dim))\n",
    "        xxt = np.dot(X.T,X) \n",
    "        temp = np.dot(np.linalg.inv(lambda_var * I + np.divide(xxt,sigma**2.0)), np.divide(np.dot(X.T,self.Expectation),sigma**2.0))\n",
    "        self.W.append(temp)\n",
    "    \n",
    "    def log_joint_dist(self, t, X, Y):\n",
    "        lambda_var = self.lambda_var\n",
    "        sigma = self.sigma\n",
    "        d = self.dim\n",
    "        wt = self.W[t]\n",
    "        Xw_over_sigma = np.divide(np.dot(X,wt).reshape((self.n,1)), sigma)\n",
    "        ytrn = np.asarray(Y)\n",
    "        temp = float((d/2.0) * np.log(lambda_var / (2.0*np.pi)) - (lambda_var/2.0) * np.dot(wt,wt)\n",
    "               + np.dot(ytrn,np.log(norm.cdf(Xw_over_sigma))) + np.dot((1.0-ytrn),np.log(1.0 - norm.cdf(Xw_over_sigma))))\n",
    "        return temp\n",
    "    \n",
    "    def fit(self, T, X, Y):\n",
    "        log_joint_dist_val = -float('inf')\n",
    "        for t in range(1, T + 1):\n",
    "            print t\n",
    "            self.E_step(t, X, Y)\n",
    "            self.M_step(t, X)\n",
    "            temp = self.log_joint_dist(t, X, Y)\n",
    "            if temp < log_joint_dist_val:\n",
    "                print \"error\"\n",
    "                break\n",
    "            else:\n",
    "                log_joint_dist_val = temp\n",
    "    \n",
    "    def predict(self, T, X, Y, Xtest):\n",
    "        self.fit(T, X, Y)\n",
    "        weights = self.W[T]\n",
    "        y_probs = np.dot(Xtest, weights)\n",
    "        y_labels = [0 if y_prob <= 0 else 1 for y_prob in y_probs]\n",
    "        return y_labels, y_probs\n",
    "        \n",
    "            "
   ]
  },
  {
   "cell_type": "code",
   "execution_count": 5,
   "metadata": {
    "collapsed": false
   },
   "outputs": [],
   "source": [
    "n, dim = xtrn.shape\n",
    "sigma = 1.5\n",
    "lambda_var = 1\n",
    "T = 100"
   ]
  },
  {
   "cell_type": "code",
   "execution_count": 6,
   "metadata": {
    "collapsed": false
   },
   "outputs": [],
   "source": [
    "model = probit_regression(n, dim, sigma, lambda_var)"
   ]
  },
  {
   "cell_type": "code",
   "execution_count": 7,
   "metadata": {
    "collapsed": false
   },
   "outputs": [
    {
     "name": "stdout",
     "output_type": "stream",
     "text": [
      "1\n",
      "2\n",
      "3\n",
      "4\n",
      "5\n",
      "6\n",
      "7\n",
      "8\n",
      "9\n",
      "10\n",
      "11\n",
      "12\n",
      "13\n",
      "14\n",
      "15\n",
      "16\n",
      "17\n",
      "18\n",
      "19\n",
      "20\n",
      "21\n",
      "22\n",
      "23\n",
      "24\n",
      "25\n",
      "26\n",
      "27\n",
      "28\n",
      "29\n",
      "30\n",
      "31\n",
      "32\n",
      "33\n",
      "34\n",
      "35\n",
      "36\n",
      "37\n",
      "38\n",
      "39\n",
      "40\n",
      "41\n",
      "42\n",
      "43\n",
      "44\n",
      "45\n",
      "46\n",
      "47\n",
      "48\n",
      "49\n",
      "50\n",
      "51\n",
      "52\n",
      "53\n",
      "54\n",
      "55\n",
      "56\n",
      "57\n",
      "58\n",
      "59\n",
      "60\n",
      "61\n",
      "62\n",
      "63\n",
      "64\n",
      "65\n",
      "66\n",
      "67\n",
      "68\n",
      "69\n",
      "70\n",
      "71\n",
      "72\n",
      "73\n",
      "74\n",
      "75\n",
      "76\n",
      "77\n",
      "78\n",
      "79\n",
      "80\n",
      "81\n",
      "82\n",
      "83\n",
      "84\n",
      "85\n",
      "86\n",
      "87\n",
      "88\n",
      "89\n",
      "90\n",
      "91\n",
      "92\n",
      "93\n",
      "94\n",
      "95\n",
      "96\n",
      "97\n",
      "98\n",
      "99\n",
      "100\n"
     ]
    }
   ],
   "source": [
    "y_labels, y_probs = model.predict(T, xtrn, ytrn, xtst)"
   ]
  },
  {
   "cell_type": "code",
   "execution_count": 8,
   "metadata": {
    "collapsed": true
   },
   "outputs": [],
   "source": [
    "def cross_table(y, y_hat):\n",
    "    count_0_0 = 0\n",
    "    count_0_1 = 0\n",
    "    count_1_0 = 0\n",
    "    count_1_1 = 0\n",
    "    for i in range(len(y)):\n",
    "        if (y[i] == 1) & (y_hat[i] == 1):\n",
    "            count_1_1 += 1\n",
    "        elif (y[i] == 0) & (y_hat[i] == 1):\n",
    "            count_0_1 += 1\n",
    "        elif (y[i] ==  1) & (y_hat[i] == 0):\n",
    "            count_1_0 += 1\n",
    "        elif (y[i] ==  0) & (y_hat[i] == 0):\n",
    "            count_0_0 += 1\n",
    "        \n",
    "    print count_0_0, count_0_1, count_1_0, count_1_1"
   ]
  },
  {
   "cell_type": "code",
   "execution_count": 9,
   "metadata": {
    "collapsed": false
   },
   "outputs": [
    {
     "name": "stdout",
     "output_type": "stream",
     "text": [
      "930 52 77 932\n"
     ]
    }
   ],
   "source": [
    "cross_table(ytst, y_labels)"
   ]
  },
  {
   "cell_type": "code",
   "execution_count": null,
   "metadata": {
    "collapsed": true
   },
   "outputs": [],
   "source": []
  }
 ],
 "metadata": {
  "anaconda-cloud": {},
  "kernelspec": {
   "display_name": "Python [conda root]",
   "language": "python",
   "name": "conda-root-py"
  },
  "language_info": {
   "codemirror_mode": {
    "name": "ipython",
    "version": 2
   },
   "file_extension": ".py",
   "mimetype": "text/x-python",
   "name": "python",
   "nbconvert_exporter": "python",
   "pygments_lexer": "ipython2",
   "version": "2.7.12"
  }
 },
 "nbformat": 4,
 "nbformat_minor": 1
}
