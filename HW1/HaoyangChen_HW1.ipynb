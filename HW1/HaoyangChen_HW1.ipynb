{
 "cells": [
  {
   "cell_type": "code",
   "execution_count": 129,
   "metadata": {
    "collapsed": true
   },
   "outputs": [],
   "source": [
    "# Haoyang Chen\n",
    "# hc2812\n",
    "# Assingment 1\n",
    "\n",
    "import numpy as np\n",
    "import scipy as sp\n",
    "from scipy.stats import t\n",
    "import pandas as pd\n",
    "from matplotlib import pyplot as plt"
   ]
  },
  {
   "cell_type": "code",
   "execution_count": 177,
   "metadata": {
    "collapsed": true
   },
   "outputs": [],
   "source": [
    "%matplotlib inline"
   ]
  },
  {
   "cell_type": "code",
   "execution_count": 130,
   "metadata": {
    "collapsed": true
   },
   "outputs": [],
   "source": [
    "path = 'hw1_data_csv/'\n",
    "# Training data\n",
    "xtrn =pd.read_csv(path+'Xtrain.csv', header=None)\n",
    "ytrn =list(pd.read_csv(path+'ytrain.csv', header=None)[0])\n",
    "xtrn['y'] = ytrn\n",
    "\n",
    "# Reading test data\n",
    "xtst =pd.read_csv(path+'Xtest.csv', header=None)\n",
    "ytst =list(pd.read_csv(path+'ytest.csv', header=None)[0])"
   ]
  },
  {
   "cell_type": "code",
   "execution_count": 156,
   "metadata": {
    "collapsed": false
   },
   "outputs": [],
   "source": [
    "class NaiveBayesClassifier(object):\n",
    "    def __init__(self, parameters):\n",
    "        self.parameters = parameters\n",
    "\n",
    "    def posterior_predictive_distribution_y(self, y, y_new):\n",
    "        e, f = self.parameters[3:5]\n",
    "        if y_new == 1:\n",
    "            return (e + sum(y)) / float(len(y) + e + f)\n",
    "        else:\n",
    "            return (f + len(y) - sum(y)) / float(len(y) + e + f)\n",
    "\n",
    "    def posterior_predictive_distribution_x(self, x, y, x_new, y_new):\n",
    "        a, b, c = self.parameters[0:3]\n",
    "        if y_new == 0:\n",
    "            posteriorX = 1\n",
    "            for feature_index in range(15):\n",
    "                x_train = list(x[x['y'] == 0][feature_index])\n",
    "                x_star = x_new[feature_index]\n",
    "                miu_star = sum(x_train) / float(len(x_train) + 1 / a)\n",
    "                alpha = b + float(len(x_train) / 2)\n",
    "                beta = c + 0.5 * (\n",
    "                len(x_train) * np.var(x_train) + len(x_train) * ((sp.mean(x_train)) ** 2) / float(1 + len(x_train)))\n",
    "                N_star = 1 / float(len(x_train) + 1 / a)\n",
    "                    #                 df = 2 * alpha\n",
    "                    #                 loc = miu_star\n",
    "                    #                 scale = alpha / (beta * (N_star + 1))\n",
    "                value = (sp.special.gamma(0.5) / sp.special.beta(alpha, 0.5)) * sp.sqrt(\n",
    "                        alpha / (beta * (N_star + 1)) / (sp.pi * 2 * alpha)) * sp.power(\n",
    "                        1 + ((alpha / (beta * (N_star + 1))) * ((x_star - miu_star) ** 2)) / (2 * alpha), - alpha - 0.5)\n",
    "                    #                 value = t.pdf(x=x_star, df=df, loc=loc, scale=scale)\n",
    "                posteriorX = posteriorX * value\n",
    "\n",
    "        else:\n",
    "            posteriorX = 1\n",
    "            for feature_index in range(15):\n",
    "                x_train = list(x[x['y'] == 1][feature_index])\n",
    "                x_star = x_new[feature_index]\n",
    "                miu_star = sum(x_train) / (len(x_train) + 1 / a)\n",
    "                alpha = b + len(x_train) / 2\n",
    "                beta = c + 0.5 * (\n",
    "                len(x_train) * np.var(x_train) + len(x_train) * ((sp.mean(x_train)) ** 2) / (1 + len(x_train)))\n",
    "                N_star = 1 / float(len(x_train) + 1 / a)\n",
    "                value = (sp.special.gamma(0.5) / sp.special.beta(alpha, 0.5)) * sp.sqrt(\n",
    "                        alpha / (beta * (N_star + 1)) / (sp.pi * 2 * alpha)) * sp.power(\n",
    "                        1 + ((alpha / (beta * (N_star + 1))) * ((x_star - miu_star) ** 2)) / (2 * alpha), - alpha - 0.5)\n",
    "                    #                 df = 2 * alpha\n",
    "                    #                 loc = miu_star\n",
    "                    #                 scale = alpha / (beta * (N_star + 1))\n",
    "                    #                 value = t.pdf(x=x_star, df=df, loc=loc, scale=scale)\n",
    "                posteriorX = posteriorX * value\n",
    "        return float(posteriorX)\n",
    "\n",
    "\n",
    "\n",
    "    def fit(self, x, y, x_new):\n",
    "        x_test = map(list, x_new.values)\n",
    "        y_test = []\n",
    "        logit = []\n",
    "        for x_predict in x_test:\n",
    "            posterior_y_0 = float(self.posterior_predictive_distribution_x(x, y, x_predict,\n",
    "                                                                     0)) * self.posterior_predictive_distribution_y(y, 0)\n",
    "            posterior_y_1 = float(self.posterior_predictive_distribution_x(x, y, x_predict,\n",
    "                                                                     1)) * self.posterior_predictive_distribution_y(y, 1)\n",
    "            if posterior_y_0 >= posterior_y_1:\n",
    "                y_test.append(0)\n",
    "            else:\n",
    "                y_test.append(1)\n",
    "            logit.append(posterior_y_0 / posterior_y_1)\n",
    "        return y_test, logit\n"
   ]
  },
  {
   "cell_type": "code",
   "execution_count": 157,
   "metadata": {
    "collapsed": true
   },
   "outputs": [],
   "source": [
    "parameters = [1, 1, 1, 1, 1]\n",
    "classifier = NaiveBayesClassifier(parameters)"
   ]
  },
  {
   "cell_type": "code",
   "execution_count": 158,
   "metadata": {
    "collapsed": false
   },
   "outputs": [],
   "source": [
    "y_test, logit = classifier.fit(x=xtrn, y=ytrn, x_new=xtst)"
   ]
  },
  {
   "cell_type": "code",
   "execution_count": 159,
   "metadata": {
    "collapsed": false
   },
   "outputs": [],
   "source": [
    "def cross_table(y, y_hat):\n",
    "    count_0_0 = 0\n",
    "    count_0_1 = 0\n",
    "    count_1_0 = 0\n",
    "    count_1_1 = 0\n",
    "    for i in range(len(y)):\n",
    "        if (y[i] == 1) & (y_hat[i] == 1):\n",
    "            count_1_1 += 1\n",
    "        elif (y[i] == 0) & (y_hat[i] == 1):\n",
    "            count_0_1 += 1\n",
    "        elif (y[i] ==  1) & (y_hat[i] == 0):\n",
    "            count_1_0 += 1\n",
    "        elif (y[i] ==  0) & (y_hat[i] == 0):\n",
    "            count_0_0 += 1\n",
    "        \n",
    "    print count_0_0, count_0_1, count_1_0, count_1_1"
   ]
  },
  {
   "cell_type": "code",
   "execution_count": 160,
   "metadata": {
    "collapsed": false
   },
   "outputs": [
    {
     "name": "stdout",
     "output_type": "stream",
     "text": [
      "930 52 82 927\n"
     ]
    }
   ],
   "source": [
    "cross_table(ytst, y_test)"
   ]
  },
  {
   "cell_type": "code",
   "execution_count": 176,
   "metadata": {
    "collapsed": true
   },
   "outputs": [],
   "source": [
    "def ImageDrawer(Q, vector):\n",
    "    vector = vector.values.reshape(15)\n",
    "    x2 = np.dot(Q, vector).reshape((28,28))\n",
    "    plt.imshow(x2, interpolation='nearest')"
   ]
  },
  {
   "cell_type": "code",
   "execution_count": 174,
   "metadata": {
    "collapsed": true
   },
   "outputs": [],
   "source": [
    "Q = pd.read_csv(path+\"Q.csv\", header=None)"
   ]
  },
  {
   "cell_type": "code",
   "execution_count": 180,
   "metadata": {
    "collapsed": false
   },
   "outputs": [],
   "source": [
    "# 3 misclassified images\n",
    "misclassfied_index = [i for i in range(len(y_test)) if y_test[i] != ytst[i]]"
   ]
  },
  {
   "cell_type": "code",
   "execution_count": 181,
   "metadata": {
    "collapsed": false
   },
   "outputs": [
    {
     "data": {
      "text/plain": [
       "[40,\n",
       " 42,\n",
       " 55,\n",
       " 64,\n",
       " 74,\n",
       " 80,\n",
       " 84,\n",
       " 138,\n",
       " 140,\n",
       " 142,\n",
       " 162,\n",
       " 163,\n",
       " 165,\n",
       " 183,\n",
       " 195,\n",
       " 221,\n",
       " 223,\n",
       " 231,\n",
       " 259,\n",
       " 263,\n",
       " 269,\n",
       " 301,\n",
       " 312,\n",
       " 340,\n",
       " 359,\n",
       " 360,\n",
       " 361,\n",
       " 363,\n",
       " 396,\n",
       " 420,\n",
       " 440,\n",
       " 452,\n",
       " 464,\n",
       " 465,\n",
       " 483,\n",
       " 486,\n",
       " 489,\n",
       " 529,\n",
       " 564,\n",
       " 592,\n",
       " 603,\n",
       " 676,\n",
       " 696,\n",
       " 698,\n",
       " 730,\n",
       " 740,\n",
       " 744,\n",
       " 809,\n",
       " 842,\n",
       " 909,\n",
       " 948,\n",
       " 974,\n",
       " 982,\n",
       " 1002,\n",
       " 1033,\n",
       " 1047,\n",
       " 1053,\n",
       " 1074,\n",
       " 1094,\n",
       " 1108,\n",
       " 1117,\n",
       " 1149,\n",
       " 1154,\n",
       " 1168,\n",
       " 1181,\n",
       " 1193,\n",
       " 1201,\n",
       " 1215,\n",
       " 1227,\n",
       " 1253,\n",
       " 1316,\n",
       " 1327,\n",
       " 1342,\n",
       " 1364,\n",
       " 1370,\n",
       " 1373,\n",
       " 1382,\n",
       " 1390,\n",
       " 1392,\n",
       " 1407,\n",
       " 1410,\n",
       " 1412,\n",
       " 1423,\n",
       " 1429,\n",
       " 1435,\n",
       " 1445,\n",
       " 1446,\n",
       " 1450,\n",
       " 1463,\n",
       " 1475,\n",
       " 1482,\n",
       " 1502,\n",
       " 1504,\n",
       " 1505,\n",
       " 1516,\n",
       " 1519,\n",
       " 1567,\n",
       " 1571,\n",
       " 1647,\n",
       " 1653,\n",
       " 1658,\n",
       " 1661,\n",
       " 1662,\n",
       " 1663,\n",
       " 1669,\n",
       " 1671,\n",
       " 1672,\n",
       " 1673,\n",
       " 1674,\n",
       " 1678,\n",
       " 1680,\n",
       " 1681,\n",
       " 1707,\n",
       " 1708,\n",
       " 1743,\n",
       " 1757,\n",
       " 1758,\n",
       " 1818,\n",
       " 1837,\n",
       " 1842,\n",
       " 1901,\n",
       " 1902,\n",
       " 1919,\n",
       " 1922,\n",
       " 1924,\n",
       " 1926,\n",
       " 1958,\n",
       " 1971,\n",
       " 1972,\n",
       " 1977,\n",
       " 1981,\n",
       " 1982,\n",
       " 1983,\n",
       " 1986]"
      ]
     },
     "execution_count": 181,
     "metadata": {},
     "output_type": "execute_result"
    }
   ],
   "source": [
    "misclassfied_index"
   ]
  },
  {
   "cell_type": "code",
   "execution_count": 195,
   "metadata": {
    "collapsed": false
   },
   "outputs": [
    {
     "data": {
      "image/png": "[encoded data removed]",
      "text/plain": [
       "<matplotlib.figure.Figure at 0x11936fbd0>"
      ]
     },
     "metadata": {},
     "output_type": "display_data"
    }
   ],
   "source": [
    "ImageDrawer(Q, xtst.iloc[223])"
   ]
  },
  {
   "cell_type": "code",
   "execution_count": 196,
   "metadata": {
    "collapsed": false
   },
   "outputs": [
    {
     "data": {
      "image/png": "[encoded data removed]",
      "text/plain": [
       "<matplotlib.figure.Figure at 0x119526cd0>"
      ]
     },
     "metadata": {},
     "output_type": "display_data"
    }
   ],
   "source": [
    "ImageDrawer(Q, xtst.iloc[676])"
   ]
  },
  {
   "cell_type": "code",
   "execution_count": 197,
   "metadata": {
    "collapsed": false
   },
   "outputs": [
    {
     "data": {
      "image/png": "[encoded data removed]",
      "text/plain": [
       "<matplotlib.figure.Figure at 0x119320890>"
      ]
     },
     "metadata": {},
     "output_type": "display_data"
    }
   ],
   "source": [
    "ImageDrawer(Q, xtst.iloc[1842])"
   ]
  },
  {
   "cell_type": "code",
   "execution_count": 193,
   "metadata": {
    "collapsed": false
   },
   "outputs": [
    {
     "name": "stdout",
     "output_type": "stream",
     "text": [
      "1 1 0\n",
      "0 0 1\n",
      "0.639793214237 0.926222661075 1.79610067819\n"
     ]
    }
   ],
   "source": [
    "print y_test[223], y_test[676], y_test[1842]\n",
    "print ytst[223], ytst[676], ytst[1842]\n",
    "print logit[223], logit[676], logit[1842]"
   ]
  },
  {
   "cell_type": "code",
   "execution_count": 207,
   "metadata": {
    "collapsed": false
   },
   "outputs": [],
   "source": [
    "# 3 most ambiguous images\n"
   ]
  },
  {
   "cell_type": "code",
   "execution_count": 213,
   "metadata": {
    "collapsed": false
   },
   "outputs": [],
   "source": [
    "logit_cp = logit[:]"
   ]
  },
  {
   "cell_type": "code",
   "execution_count": 215,
   "metadata": {
    "collapsed": false
   },
   "outputs": [],
   "source": [
    "logit_abs = [abs(item - 1) for item in logit_cp]"
   ]
  },
  {
   "cell_type": "code",
   "execution_count": 217,
   "metadata": {
    "collapsed": false
   },
   "outputs": [],
   "source": [
    "sorted_logit = sorted(logit_abs)"
   ]
  },
  {
   "cell_type": "code",
   "execution_count": 219,
   "metadata": {
    "collapsed": false
   },
   "outputs": [
    {
     "name": "stdout",
     "output_type": "stream",
     "text": [
      "822\n",
      "1130\n",
      "357\n"
     ]
    }
   ],
   "source": [
    "# 3 most ambiguous images\n",
    "print logit_abs.index(sorted_logit[0])\n",
    "print logit_abs.index(sorted_logit[1])\n",
    "print logit_abs.index(sorted_logit[2])"
   ]
  },
  {
   "cell_type": "code",
   "execution_count": 221,
   "metadata": {
    "collapsed": false
   },
   "outputs": [
    {
     "name": "stdout",
     "output_type": "stream",
     "text": [
      "0 1 0\n",
      "0 1 0\n",
      "1.00118731725 0.990875806066 1.01456469643\n"
     ]
    }
   ],
   "source": [
    "print y_test[822], y_test[1130], y_test[357]\n",
    "print ytst[822], ytst[1130], ytst[357]\n",
    "print logit[822], logit[1130], logit[357]"
   ]
  },
  {
   "cell_type": "code",
   "execution_count": 225,
   "metadata": {
    "collapsed": false
   },
   "outputs": [
    {
     "data": {
      "image/png": "[encoded data removed]",
      "text/plain": [
       "<matplotlib.figure.Figure at 0x1191cd950>"
      ]
     },
     "metadata": {},
     "output_type": "display_data"
    }
   ],
   "source": [
    "ImageDrawer(Q, xtst.iloc[822])"
   ]
  },
  {
   "cell_type": "code",
   "execution_count": 226,
   "metadata": {
    "collapsed": false
   },
   "outputs": [
    {
     "data": {
      "image/png": "[encoded data removed]",
      "text/plain": [
       "<matplotlib.figure.Figure at 0x118d683d0>"
      ]
     },
     "metadata": {},
     "output_type": "display_data"
    }
   ],
   "source": [
    "ImageDrawer(Q, xtst.iloc[1130])"
   ]
  },
  {
   "cell_type": "code",
   "execution_count": 227,
   "metadata": {
    "collapsed": false
   },
   "outputs": [
    {
     "data": {
      "image/png": "[encoded data removed]",
      "text/plain": [
       "<matplotlib.figure.Figure at 0x114723250>"
      ]
     },
     "metadata": {},
     "output_type": "display_data"
    }
   ],
   "source": [
    "ImageDrawer(Q, xtst.iloc[357])"
   ]
  },
  {
   "cell_type": "code",
   "execution_count": 6,
   "metadata": {
    "collapsed": true
   },
   "outputs": [],
   "source": [
    "y = [0, 0, 1, 0, 0, 1, 0, 0]"
   ]
  },
  {
   "cell_type": "code",
   "execution_count": 13,
   "metadata": {
    "collapsed": false
   },
   "outputs": [
    {
     "data": {
      "text/plain": [
       "[2, 5]"
      ]
     },
     "execution_count": 13,
     "metadata": {},
     "output_type": "execute_result"
    }
   ],
   "source": [
    "[i for i in range(8) if y[i] == 1]"
   ]
  },
  {
   "cell_type": "code",
   "execution_count": 9,
   "metadata": {
    "collapsed": false
   },
   "outputs": [
    {
     "name": "stdout",
     "output_type": "stream",
     "text": [
      "0\n",
      "0\n",
      "1\n",
      "0\n",
      "0\n",
      "1\n",
      "0\n",
      "0\n"
     ]
    }
   ],
   "source": [
    "for i, j in enumerate(y):"
   ]
  },
  {
   "cell_type": "code",
   "execution_count": null,
   "metadata": {
    "collapsed": true
   },
   "outputs": [],
   "source": []
  }
 ],
 "metadata": {
  "anaconda-cloud": {},
  "kernelspec": {
   "display_name": "Python [conda root]",
   "language": "python",
   "name": "conda-root-py"
  },
  "language_info": {
   "codemirror_mode": {
    "name": "ipython",
    "version": 2
   },
   "file_extension": ".py",
   "mimetype": "text/x-python",
   "name": "python",
   "nbconvert_exporter": "python",
   "pygments_lexer": "ipython2",
   "version": "2.7.12"
  }
 },
 "nbformat": 4,
 "nbformat_minor": 1
}
